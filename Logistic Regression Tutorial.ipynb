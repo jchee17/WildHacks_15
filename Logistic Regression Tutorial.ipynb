{
 "metadata": {
  "name": ""
 },
 "nbformat": 3,
 "nbformat_minor": 0,
 "worksheets": [
  {
   "cells": [
    {
     "cell_type": "code",
     "collapsed": false,
     "input": [
      "import pandas as pd\n",
      "import statsmodels.api as sm\n",
      "import pylab as pl\n",
      "import numpy as np\n",
      "\n",
      "# read the data in\n",
      "df = pd.read_csv(\"http://www.ats.ucla.edu/stat/data/binary.csv\")"
     ],
     "language": "python",
     "metadata": {},
     "outputs": [],
     "prompt_number": 8
    },
    {
     "cell_type": "code",
     "collapsed": false,
     "input": [
      "# take a look at the dataset\n",
      "print df.head()"
     ],
     "language": "python",
     "metadata": {},
     "outputs": [
      {
       "output_type": "stream",
       "stream": "stdout",
       "text": [
        "   admit  gre   gpa  rank\n",
        "0      0  380  3.61     3\n",
        "1      1  660  3.67     3\n",
        "2      1  800  4.00     1\n",
        "3      1  640  3.19     4\n",
        "4      0  520  2.93     4\n",
        "\n",
        "[5 rows x 4 columns]\n"
       ]
      }
     ],
     "prompt_number": 9
    },
    {
     "cell_type": "code",
     "collapsed": false,
     "input": [
      "# rename the 'rank' column because there is also a DataFrame method called 'rank'\n",
      "df.columns = [\"admit\", \"gre\", \"gpa\", \"prestige\"]\n",
      "print df.columns"
     ],
     "language": "python",
     "metadata": {},
     "outputs": [
      {
       "output_type": "stream",
       "stream": "stdout",
       "text": [
        "Index([u'admit', u'gre', u'gpa', u'prestige'], dtype='object')\n"
       ]
      }
     ],
     "prompt_number": 10
    },
    {
     "cell_type": "code",
     "collapsed": false,
     "input": [
      "# summarize teh data\n",
      "print df.describe()"
     ],
     "language": "python",
     "metadata": {},
     "outputs": [
      {
       "output_type": "stream",
       "stream": "stdout",
       "text": [
        "            admit         gre         gpa   prestige\n",
        "count  400.000000  400.000000  400.000000  400.00000\n",
        "mean     0.317500  587.700000    3.389900    2.48500\n",
        "std      0.466087  115.516536    0.380567    0.94446\n",
        "min      0.000000  220.000000    2.260000    1.00000\n",
        "25%      0.000000  520.000000    3.130000    2.00000\n",
        "50%      0.000000  580.000000    3.395000    2.00000\n",
        "75%      1.000000  660.000000    3.670000    3.00000\n",
        "max      1.000000  800.000000    4.000000    4.00000\n",
        "\n",
        "[8 rows x 4 columns]\n"
       ]
      }
     ],
     "prompt_number": 11
    },
    {
     "cell_type": "code",
     "collapsed": false,
     "input": [
      "# take a look at the standard deviation of each column\n",
      "print df.std()"
     ],
     "language": "python",
     "metadata": {},
     "outputs": [
      {
       "output_type": "stream",
       "stream": "stdout",
       "text": [
        "admit         0.466087\n",
        "gre         115.516536\n",
        "gpa           0.380567\n",
        "prestige      0.944460\n",
        "dtype: float64\n"
       ]
      }
     ],
     "prompt_number": 12
    },
    {
     "cell_type": "code",
     "collapsed": false,
     "input": [
      "# frequency table cutting prestige and whether or not someone was admitted\n",
      "print pd.crosstab(df['admit'], df['prestige'], rownames=['admit'])"
     ],
     "language": "python",
     "metadata": {},
     "outputs": [
      {
       "output_type": "stream",
       "stream": "stdout",
       "text": [
        "prestige   1   2   3   4\n",
        "admit                   \n",
        "0         28  97  93  55\n",
        "1         33  54  28  12\n",
        "\n",
        "[2 rows x 4 columns]\n"
       ]
      }
     ],
     "prompt_number": 13
    },
    {
     "cell_type": "code",
     "collapsed": false,
     "input": [
      "# plot all the columns\n",
      "#df.hist()\n",
      "#pl.Show()"
     ],
     "language": "python",
     "metadata": {},
     "outputs": [],
     "prompt_number": 6
    },
    {
     "cell_type": "code",
     "collapsed": false,
     "input": [
      "# dummify rank\n",
      "dummy_ranks = pd.get_dummies(df['prestige'], prefix='prestige')\n",
      "print dummy_ranks.head()"
     ],
     "language": "python",
     "metadata": {},
     "outputs": [
      {
       "output_type": "stream",
       "stream": "stdout",
       "text": [
        "   prestige_1  prestige_2  prestige_3  prestige_4\n",
        "0           0           0           1           0\n",
        "1           0           0           1           0\n",
        "2           1           0           0           0\n",
        "3           0           0           0           1\n",
        "4           0           0           0           1\n",
        "\n",
        "[5 rows x 4 columns]\n"
       ]
      }
     ],
     "prompt_number": 14
    },
    {
     "cell_type": "code",
     "collapsed": false,
     "input": [
      "# create a clean data frame for the regression\n",
      "cols_to_keep = ['admit', 'gre', 'gpa']\n",
      "data = df[cols_to_keep].join(dummy_ranks.ix[:, 'prestige_2':])\n",
      "print data.head()"
     ],
     "language": "python",
     "metadata": {},
     "outputs": [
      {
       "output_type": "stream",
       "stream": "stdout",
       "text": [
        "   admit  gre   gpa  prestige_2  prestige_3  prestige_4\n",
        "0      0  380  3.61           0           1           0\n",
        "1      1  660  3.67           0           1           0\n",
        "2      1  800  4.00           0           0           0\n",
        "3      1  640  3.19           0           0           1\n",
        "4      0  520  2.93           0           0           1\n",
        "\n",
        "[5 rows x 6 columns]\n"
       ]
      }
     ],
     "prompt_number": 19
    },
    {
     "cell_type": "code",
     "collapsed": false,
     "input": [
      "# manually add the intercept\n",
      "data['intercept'] = 1.0"
     ],
     "language": "python",
     "metadata": {},
     "outputs": [],
     "prompt_number": 18
    },
    {
     "cell_type": "code",
     "collapsed": false,
     "input": [
      "# Logistic Regression\n",
      "train_cols = data.columns[1:]\n",
      "\n",
      "logit = sm.Logit(data['admit'], data[train_cols])\n",
      "\n",
      "#fit the model\n",
      "result = logit.fit()"
     ],
     "language": "python",
     "metadata": {},
     "outputs": [
      {
       "output_type": "stream",
       "stream": "stdout",
       "text": [
        "Optimization terminated successfully.\n",
        "         Current function value: 0.589306\n",
        "         Iterations 5\n"
       ]
      }
     ],
     "prompt_number": 20
    },
    {
     "cell_type": "code",
     "collapsed": false,
     "input": [
      "print result.summary()"
     ],
     "language": "python",
     "metadata": {},
     "outputs": [
      {
       "output_type": "stream",
       "stream": "stdout",
       "text": [
        "                           Logit Regression Results                           \n",
        "==============================================================================\n",
        "Dep. Variable:                  admit   No. Observations:                  400\n",
        "Model:                          Logit   Df Residuals:                      395\n",
        "Method:                           MLE   Df Model:                            4\n",
        "Date:                Sat, 21 Nov 2015   Pseudo R-squ.:                 0.05707\n",
        "Time:                        14:09:18   Log-Likelihood:                -235.72\n",
        "converged:                       True   LL-Null:                       -249.99\n",
        "                                        LLR p-value:                 9.732e-06\n",
        "==============================================================================\n",
        "                 coef    std err          z      P>|z|      [95.0% Conf. Int.]\n",
        "------------------------------------------------------------------------------\n",
        "gre            0.0014      0.001      1.329      0.184        -0.001     0.003\n",
        "gpa           -0.1336      0.194     -0.687      0.492        -0.515     0.248\n",
        "prestige_2    -0.9663      0.300     -3.216      0.001        -1.555    -0.377\n",
        "prestige_3    -1.5451      0.332     -4.648      0.000        -2.197    -0.894\n",
        "prestige_4    -1.8776      0.402     -4.676      0.000        -2.665    -1.091\n",
        "==============================================================================\n"
       ]
      }
     ],
     "prompt_number": 21
    },
    {
     "cell_type": "code",
     "collapsed": false,
     "input": [
      "# look at confidence itnerval of each coeffecient\n",
      "print result.conf_int()"
     ],
     "language": "python",
     "metadata": {},
     "outputs": [
      {
       "output_type": "stream",
       "stream": "stdout",
       "text": [
        "                   0         1\n",
        "gre        -0.000659  0.003433\n",
        "gpa        -0.514719  0.247567\n",
        "prestige_2 -1.555108 -0.377455\n",
        "prestige_3 -2.196552 -0.893587\n",
        "prestige_4 -2.664598 -1.090586\n",
        "\n",
        "[5 rows x 2 columns]\n"
       ]
      }
     ],
     "prompt_number": 22
    },
    {
     "cell_type": "code",
     "collapsed": false,
     "input": [],
     "language": "python",
     "metadata": {},
     "outputs": []
    }
   ],
   "metadata": {}
  }
 ]
}