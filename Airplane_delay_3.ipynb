{
 "metadata": {
  "name": ""
 },
 "nbformat": 3,
 "nbformat_minor": 0,
 "worksheets": [
  {
   "cells": [
    {
     "cell_type": "markdown",
     "metadata": {},
     "source": [
      "lets use sklearn. statsmodels was giving me memory errors"
     ]
    },
    {
     "cell_type": "code",
     "collapsed": false,
     "input": [
      "from sklearn import linear_model\n",
      "import pandas as pd\n",
      "import numpy as np\n",
      "from patsy import dmatrices\n",
      "import random\n",
      "import time"
     ],
     "language": "python",
     "metadata": {},
     "outputs": [],
     "prompt_number": 10
    },
    {
     "cell_type": "code",
     "collapsed": false,
     "input": [
      "df_15 = pd.read_csv('/home/jerry/GitHub/WildHacks_15/113926557_T_ONTIME.csv')"
     ],
     "language": "python",
     "metadata": {},
     "outputs": [],
     "prompt_number": 5
    },
    {
     "cell_type": "code",
     "collapsed": false,
     "input": [
      "#Now lets try training a model with 10,000 rows\n",
      "num = 10000\n",
      "rows = random.sample(df_15.index, num)\n",
      "df_15_4 = df_15.iloc[rows,]\n",
      "df_15_4.columns"
     ],
     "language": "python",
     "metadata": {},
     "outputs": [
      {
       "metadata": {},
       "output_type": "pyout",
       "prompt_number": 6,
       "text": [
        "Index([u'YEAR', u'QUARTER', u'MONTH', u'DAY_OF_MONTH', u'DAY_OF_WEEK', u'FL_DATE', u'AIRLINE_ID', u'ORIGIN', u'ORIGIN_CITY_NAME', u'ORIGIN_STATE_ABR', u'DEST', u'DEST_CITY_NAME', u'DEST_STATE_ABR', u'CRS_DEP_TIME', u'DEP_TIME', u'DEP_DELAY', u'CRS_ARR_TIME', u'ARR_TIME', u'ARR_DELAY', u'CANCELLED', u'CANCELLATION_CODE', u'DIVERTED', u'CRS_ELAPSED_TIME', u'ACTUAL_ELAPSED_TIME', u'AIR_TIME', u'FLIGHTS', u'DISTANCE', u'CARRIER_DELAY', u'WEATHER_DELAY', u'NAS_DELAY', u'SECURITY_DELAY', u'LATE_AIRCRAFT_DELAY', u'Unnamed: 32'], dtype='object')"
       ]
      }
     ],
     "prompt_number": 6
    },
    {
     "cell_type": "code",
     "collapsed": false,
     "input": [
      "# create dataframes with an intercept column and dummy variables\n",
      "formula='ARR_DELAY ~ C(DAY_OF_MONTH) + \\\n",
      "                        C(DAY_OF_WEEK) + C(AIRLINE_ID) + \\\n",
      "                        C(ORIGIN) + C(ORIGIN_CITY_NAME) + \\\n",
      "                        C(ORIGIN_STATE_ABR) + C(DEST) + \\\n",
      "                        C(DEST_CITY_NAME) + C(DEST_STATE_ABR) + \\\n",
      "                        CRS_DEP_TIME + DEP_TIME + DEP_DELAY + \\\n",
      "                        CRS_ARR_TIME + FLIGHTS + DISTANCE'\n",
      "\n",
      "y, X = dmatrices(formula, data=df_15_4, return_type=\"dataframe\")\n",
      "print X.columns\n",
      "y = np.ravel(y)"
     ],
     "language": "python",
     "metadata": {},
     "outputs": [
      {
       "output_type": "stream",
       "stream": "stdout",
       "text": [
        "Index([u'Intercept', u'C(DAY_OF_MONTH)[T.2]', u'C(DAY_OF_MONTH)[T.3]', u'C(DAY_OF_MONTH)[T.4]', u'C(DAY_OF_MONTH)[T.5]', u'C(DAY_OF_MONTH)[T.6]', u'C(DAY_OF_MONTH)[T.7]', u'C(DAY_OF_MONTH)[T.8]', u'C(DAY_OF_MONTH)[T.9]', u'C(DAY_OF_MONTH)[T.10]', u'C(DAY_OF_MONTH)[T.11]', u'C(DAY_OF_MONTH)[T.12]', u'C(DAY_OF_MONTH)[T.13]', u'C(DAY_OF_MONTH)[T.14]', u'C(DAY_OF_MONTH)[T.15]', u'C(DAY_OF_MONTH)[T.16]', u'C(DAY_OF_MONTH)[T.17]', u'C(DAY_OF_MONTH)[T.18]', u'C(DAY_OF_MONTH)[T.19]', u'C(DAY_OF_MONTH)[T.20]', u'C(DAY_OF_MONTH)[T.21]', u'C(DAY_OF_MONTH)[T.22]', u'C(DAY_OF_MONTH)[T.23]', u'C(DAY_OF_MONTH)[T.24]', u'C(DAY_OF_MONTH)[T.25]', u'C(DAY_OF_MONTH)[T.26]', u'C(DAY_OF_MONTH)[T.27]', u'C(DAY_OF_MONTH)[T.28]', u'C(DAY_OF_MONTH)[T.29]', u'C(DAY_OF_MONTH)[T.30]', u'C(DAY_OF_MONTH)[T.31]', u'C(DAY_OF_WEEK)[T.2]', u'C(DAY_OF_WEEK)[T.3]', u'C(DAY_OF_WEEK)[T.4]', u'C(DAY_OF_WEEK)[T.5]', u'C(DAY_OF_WEEK)[T.6]', u'C(DAY_OF_WEEK)[T.7]', u'C(AIRLINE_ID)[T.19690]', u'C(AIRLINE_ID)[T.19790]', u'C(AIRLINE_ID)[T.19805]', u'C(AIRLINE_ID)[T.19930]', u'C(AIRLINE_ID)[T.19977]', u'C(AIRLINE_ID)[T.20304]', u'C(AIRLINE_ID)[T.20355]', u'C(AIRLINE_ID)[T.20366]', u'C(AIRLINE_ID)[T.20398]', u'C(AIRLINE_ID)[T.20409]', u'C(AIRLINE_ID)[T.20416]', u'C(AIRLINE_ID)[T.20436]', u'C(AIRLINE_ID)[T.21171]', u'C(ORIGIN)[T.ABI]', u'C(ORIGIN)[T.ABQ]', u'C(ORIGIN)[T.ABR]', u'C(ORIGIN)[T.ABY]', u'C(ORIGIN)[T.ACT]', u'C(ORIGIN)[T.ACV]', u'C(ORIGIN)[T.ACY]', u'C(ORIGIN)[T.ADK]', u'C(ORIGIN)[T.ADQ]', u'C(ORIGIN)[T.AEX]', u'C(ORIGIN)[T.AGS]', u'C(ORIGIN)[T.ALB]', u'C(ORIGIN)[T.ALO]', u'C(ORIGIN)[T.AMA]', u'C(ORIGIN)[T.ANC]', u'C(ORIGIN)[T.APN]', u'C(ORIGIN)[T.ASE]', u'C(ORIGIN)[T.ATL]', u'C(ORIGIN)[T.ATW]', u'C(ORIGIN)[T.AUS]', u'C(ORIGIN)[T.AVL]', u'C(ORIGIN)[T.AVP]', u'C(ORIGIN)[T.AZO]', u'C(ORIGIN)[T.BDL]', u'C(ORIGIN)[T.BET]', u'C(ORIGIN)[T.BFL]', u'C(ORIGIN)[T.BHM]', u'C(ORIGIN)[T.BIL]', u'C(ORIGIN)[T.BIS]', u'C(ORIGIN)[T.BJI]', u'C(ORIGIN)[T.BLI]', u'C(ORIGIN)[T.BMI]', u'C(ORIGIN)[T.BNA]', u'C(ORIGIN)[T.BOI]', u'C(ORIGIN)[T.BOS]', u'C(ORIGIN)[T.BPT]', u'C(ORIGIN)[T.BQK]', u'C(ORIGIN)[T.BQN]', u'C(ORIGIN)[T.BRO]', u'C(ORIGIN)[T.BRW]', u'C(ORIGIN)[T.BTM]', u'C(ORIGIN)[T.BTR]', u'C(ORIGIN)[T.BTV]', u'C(ORIGIN)[T.BUF]', u'C(ORIGIN)[T.BUR]', u'C(ORIGIN)[T.BWI]', u'C(ORIGIN)[T.BZN]', u'C(ORIGIN)[T.CAE]', u'C(ORIGIN)[T.CAK]', u'C(ORIGIN)[T.CDC]', ...], dtype='object')\n"
       ]
      }
     ],
     "prompt_number": 32
    },
    {
     "cell_type": "code",
     "collapsed": false,
     "input": [
      "print y"
     ],
     "language": "python",
     "metadata": {},
     "outputs": [
      {
       "output_type": "stream",
       "stream": "stdout",
       "text": [
        "[ -1.  27.   9. ...,   5.  19. -26.]\n"
       ]
      }
     ],
     "prompt_number": 33
    },
    {
     "cell_type": "code",
     "collapsed": false,
     "input": [
      "# lets fit a Lin Reg\n",
      "time_start = time.time()\n",
      "\n",
      "clf_15_4 = linear_model.LinearRegression()\n",
      "clf_15_4.fit(X,y)\n",
      "\n",
      "tot_15_4_time = time.time() - time_start\n",
      "print tot_15_4_time"
     ],
     "language": "python",
     "metadata": {},
     "outputs": [
      {
       "output_type": "stream",
       "stream": "stdout",
       "text": [
        "32.2077810764\n"
       ]
      }
     ],
     "prompt_number": 34
    },
    {
     "cell_type": "code",
     "collapsed": false,
     "input": [
      "# now lets upload Jan 2014 and make some predictions\n",
      "df_14 = pd.read_csv('/home/jerry/GitHub/WildHacks_15/Jan14_113965754_T_ONTIME.csv')\n",
      "\n",
      "#Now lets try training a model with 10,000 rows\n",
      "num = 10000\n",
      "rows = random.sample(df_14.index, num)\n",
      "df_14_4 = df_14.iloc[rows,]"
     ],
     "language": "python",
     "metadata": {},
     "outputs": [],
     "prompt_number": 16
    },
    {
     "cell_type": "code",
     "collapsed": false,
     "input": [
      "#I really really hope I can make a prediction\n",
      "cols_to_pred = ['DAY_OF_MONTH', 'DAY_OF_WEEK', 'AIRLINE_ID',\n",
      "                'ORIGIN', 'ORIGIN_CITY_NAME', 'ORIGIN_STATE_ABR',\n",
      "                'DEST', 'DEST_CITY_NAME', 'DEST_STATE_ABR',\n",
      "                'CRS_DEP_TIME', 'DEP_TIME', 'DEP_DELAY',\n",
      "                'CRS_ARR_TIME', 'FLIGHTS', 'DISTANCE']\n",
      "\n",
      "y_14, X_14 = dmatrices(formula, data=df_14_4, return_type=\"dataframe\")\n",
      "pred_14 = clf_15_4.predict(X_14)"
     ],
     "language": "python",
     "metadata": {},
     "outputs": [
      {
       "ename": "ValueError",
       "evalue": "matrices are not aligned",
       "output_type": "pyerr",
       "traceback": [
        "\u001b[0;31m---------------------------------------------------------------------------\u001b[0m\n\u001b[0;31mValueError\u001b[0m                                Traceback (most recent call last)",
        "\u001b[0;32m<ipython-input-35-44a6d06b52ea>\u001b[0m in \u001b[0;36m<module>\u001b[0;34m()\u001b[0m\n\u001b[1;32m      7\u001b[0m \u001b[0;34m\u001b[0m\u001b[0m\n\u001b[1;32m      8\u001b[0m \u001b[0my_14\u001b[0m\u001b[0;34m,\u001b[0m \u001b[0mX_14\u001b[0m \u001b[0;34m=\u001b[0m \u001b[0mdmatrices\u001b[0m\u001b[0;34m(\u001b[0m\u001b[0mformula\u001b[0m\u001b[0;34m,\u001b[0m \u001b[0mdata\u001b[0m\u001b[0;34m=\u001b[0m\u001b[0mdf_14_4\u001b[0m\u001b[0;34m,\u001b[0m \u001b[0mreturn_type\u001b[0m\u001b[0;34m=\u001b[0m\u001b[0;34m\"dataframe\"\u001b[0m\u001b[0;34m)\u001b[0m\u001b[0;34m\u001b[0m\u001b[0m\n\u001b[0;32m----> 9\u001b[0;31m \u001b[0mpred_14\u001b[0m \u001b[0;34m=\u001b[0m \u001b[0mclf_15_4\u001b[0m\u001b[0;34m.\u001b[0m\u001b[0mpredict\u001b[0m\u001b[0;34m(\u001b[0m\u001b[0mX_14\u001b[0m\u001b[0;34m)\u001b[0m\u001b[0;34m\u001b[0m\u001b[0m\n\u001b[0m",
        "\u001b[0;32m/usr/lib/python2.7/dist-packages/sklearn/linear_model/base.pyc\u001b[0m in \u001b[0;36mpredict\u001b[0;34m(self, X)\u001b[0m\n\u001b[1;32m    157\u001b[0m             \u001b[0mReturns\u001b[0m \u001b[0mpredicted\u001b[0m \u001b[0mvalues\u001b[0m\u001b[0;34m.\u001b[0m\u001b[0;34m\u001b[0m\u001b[0m\n\u001b[1;32m    158\u001b[0m         \"\"\"\n\u001b[0;32m--> 159\u001b[0;31m         \u001b[0;32mreturn\u001b[0m \u001b[0mself\u001b[0m\u001b[0;34m.\u001b[0m\u001b[0mdecision_function\u001b[0m\u001b[0;34m(\u001b[0m\u001b[0mX\u001b[0m\u001b[0;34m)\u001b[0m\u001b[0;34m\u001b[0m\u001b[0m\n\u001b[0m\u001b[1;32m    160\u001b[0m \u001b[0;34m\u001b[0m\u001b[0m\n\u001b[1;32m    161\u001b[0m     \u001b[0m_center_data\u001b[0m \u001b[0;34m=\u001b[0m \u001b[0mstaticmethod\u001b[0m\u001b[0;34m(\u001b[0m\u001b[0mcenter_data\u001b[0m\u001b[0;34m)\u001b[0m\u001b[0;34m\u001b[0m\u001b[0m\n",
        "\u001b[0;32m/usr/lib/python2.7/dist-packages/sklearn/linear_model/base.pyc\u001b[0m in \u001b[0;36mdecision_function\u001b[0;34m(self, X)\u001b[0m\n\u001b[1;32m    142\u001b[0m         \u001b[0mX\u001b[0m \u001b[0;34m=\u001b[0m \u001b[0msafe_asarray\u001b[0m\u001b[0;34m(\u001b[0m\u001b[0mX\u001b[0m\u001b[0;34m)\u001b[0m\u001b[0;34m\u001b[0m\u001b[0m\n\u001b[1;32m    143\u001b[0m         return safe_sparse_dot(X, self.coef_.T,\n\u001b[0;32m--> 144\u001b[0;31m                                dense_output=True) + self.intercept_\n\u001b[0m\u001b[1;32m    145\u001b[0m \u001b[0;34m\u001b[0m\u001b[0m\n\u001b[1;32m    146\u001b[0m     \u001b[0;32mdef\u001b[0m \u001b[0mpredict\u001b[0m\u001b[0;34m(\u001b[0m\u001b[0mself\u001b[0m\u001b[0;34m,\u001b[0m \u001b[0mX\u001b[0m\u001b[0;34m)\u001b[0m\u001b[0;34m:\u001b[0m\u001b[0;34m\u001b[0m\u001b[0m\n",
        "\u001b[0;32m/usr/lib/python2.7/dist-packages/sklearn/utils/extmath.pyc\u001b[0m in \u001b[0;36msafe_sparse_dot\u001b[0;34m(a, b, dense_output)\u001b[0m\n\u001b[1;32m     81\u001b[0m         \u001b[0;32mreturn\u001b[0m \u001b[0mret\u001b[0m\u001b[0;34m\u001b[0m\u001b[0m\n\u001b[1;32m     82\u001b[0m     \u001b[0;32melse\u001b[0m\u001b[0;34m:\u001b[0m\u001b[0;34m\u001b[0m\u001b[0m\n\u001b[0;32m---> 83\u001b[0;31m         \u001b[0;32mreturn\u001b[0m \u001b[0mnp\u001b[0m\u001b[0;34m.\u001b[0m\u001b[0mdot\u001b[0m\u001b[0;34m(\u001b[0m\u001b[0ma\u001b[0m\u001b[0;34m,\u001b[0m \u001b[0mb\u001b[0m\u001b[0;34m)\u001b[0m\u001b[0;34m\u001b[0m\u001b[0m\n\u001b[0m\u001b[1;32m     84\u001b[0m \u001b[0;34m\u001b[0m\u001b[0m\n\u001b[1;32m     85\u001b[0m \u001b[0;34m\u001b[0m\u001b[0m\n",
        "\u001b[0;31mValueError\u001b[0m: matrices are not aligned"
       ]
      }
     ],
     "prompt_number": 35
    },
    {
     "cell_type": "code",
     "collapsed": false,
     "input": [
      "X_14.shape"
     ],
     "language": "python",
     "metadata": {},
     "outputs": [
      {
       "metadata": {},
       "output_type": "pyout",
       "prompt_number": 36,
       "text": [
        "(9257, 1240)"
       ]
      }
     ],
     "prompt_number": 36
    },
    {
     "cell_type": "code",
     "collapsed": false,
     "input": [
      "X_14.shape"
     ],
     "language": "python",
     "metadata": {},
     "outputs": [
      {
       "metadata": {},
       "output_type": "pyout",
       "prompt_number": 37,
       "text": [
        "(9257, 1240)"
       ]
      }
     ],
     "prompt_number": 37
    },
    {
     "cell_type": "code",
     "collapsed": false,
     "input": [
      "y_14.shape"
     ],
     "language": "python",
     "metadata": {},
     "outputs": [
      {
       "metadata": {},
       "output_type": "pyout",
       "prompt_number": 39,
       "text": [
        "(9257, 1)"
       ]
      }
     ],
     "prompt_number": 39
    }
   ],
   "metadata": {}
  }
 ]
}